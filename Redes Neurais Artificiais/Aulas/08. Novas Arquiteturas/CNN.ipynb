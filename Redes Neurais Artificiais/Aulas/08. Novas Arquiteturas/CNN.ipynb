{
  "nbformat": 4,
  "nbformat_minor": 0,
  "metadata": {
    "colab": {
      "provenance": []
    },
    "kernelspec": {
      "name": "python3",
      "display_name": "Python 3"
    },
    "language_info": {
      "name": "python"
    }
  },
  "cells": [
    {
      "cell_type": "code",
      "execution_count": null,
      "metadata": {
        "id": "aDIvijh9y1uw"
      },
      "outputs": [],
      "source": [
        "# Importacao de Bibliotecas\n",
        "import keras\n",
        "from keras.datasets import cifar100\n",
        "from keras.utils import to_categorical\n",
        "from keras.models import Sequential\n",
        "from keras.layers import Conv2D, MaxPooling2D, Flatten, Dropout, Dense\n",
        "from keras.optimizers import RMSprop"
      ]
    },
    {
      "cell_type": "code",
      "source": [
        "# Carregar o conjunto de dados Cifar\n",
        "(x_train, g_train), (x_test, g_test) = cifar100.load_data()"
      ],
      "metadata": {
        "colab": {
          "base_uri": "https://localhost:8080/"
        },
        "id": "1uzrys-8zXn7",
        "outputId": "45234b90-f1dd-4fb5-bb8c-d4fcf4fd61bc"
      },
      "execution_count": null,
      "outputs": [
        {
          "output_type": "stream",
          "name": "stdout",
          "text": [
            "Downloading data from https://www.cs.toronto.edu/~kriz/cifar-100-python.tar.gz\n",
            "169001437/169001437 [==============================] - 3s 0us/step\n"
          ]
        }
      ]
    },
    {
      "cell_type": "code",
      "source": [
        "# Normalizacao do Conjunto de Dados\n",
        "x_train = x_train / 255.0\n",
        "x_test = x_test / 255.0"
      ],
      "metadata": {
        "id": "brOTOzJDz9Eb"
      },
      "execution_count": null,
      "outputs": []
    },
    {
      "cell_type": "code",
      "source": [
        "# Converter as classes em Categorias\n",
        "y_train = to_categorical(g_train, num_classes=100)"
      ],
      "metadata": {
        "id": "YS82mFBm0Mo4"
      },
      "execution_count": null,
      "outputs": []
    },
    {
      "cell_type": "code",
      "source": [
        "# Criar o modelo sequencial\n",
        "model = Sequential()\n",
        "model.add(Conv2D(filters=32, kernel_size=(3, 3), padding='same', activation='relu', input_shape=(32, 32, 3)))\n",
        "model.add(MaxPooling2D(pool_size=(2, 2)))\n",
        "model.add(Conv2D(filters=64, kernel_size=(3, 3), padding='same', activation='relu'))\n",
        "model.add(MaxPooling2D(pool_size=(2, 2)))\n",
        "model.add(Conv2D(filters=128, kernel_size=(3, 3), padding='same', activation='relu'))\n",
        "model.add(MaxPooling2D(pool_size=(2, 2)))\n",
        "model.add(Conv2D(filters=256, kernel_size=(3, 3), padding='same', activation='relu'))\n",
        "model.add(MaxPooling2D(pool_size=(2, 2)))\n",
        "model.add(Flatten())\n",
        "model.add(Dropout(rate=0.5))\n",
        "model.add(Dense(units=512, activation='relu'))\n",
        "model.add(Dense(units=100, activation='softmax'))"
      ],
      "metadata": {
        "id": "4xF3wBg20uJu"
      },
      "execution_count": null,
      "outputs": []
    },
    {
      "cell_type": "code",
      "source": [
        "# Compilar o modelo\n",
        "model.compile(loss='categorical_crossentropy', optimizer=RMSprop(), metrics=['accuracy'])"
      ],
      "metadata": {
        "id": "jV660ej303OD"
      },
      "execution_count": null,
      "outputs": []
    },
    {
      "cell_type": "code",
      "source": [
        "# Treinar o modelo\n",
        "history = model.fit(x_train, y_train, epochs=5, batch_size=128, validation_split=0.2)"
      ],
      "metadata": {
        "colab": {
          "base_uri": "https://localhost:8080/"
        },
        "id": "o_3soPEe1Nxr",
        "outputId": "3b61eeeb-4943-4eaa-d5c3-6654d568dca5"
      },
      "execution_count": null,
      "outputs": [
        {
          "output_type": "stream",
          "name": "stdout",
          "text": [
            "Epoch 1/5\n",
            "313/313 [==============================] - 169s 534ms/step - loss: 4.1717 - accuracy: 0.0577 - val_loss: 3.7085 - val_accuracy: 0.1231\n",
            "Epoch 2/5\n",
            "313/313 [==============================] - 170s 545ms/step - loss: 3.5568 - accuracy: 0.1550 - val_loss: 3.3231 - val_accuracy: 0.1971\n",
            "Epoch 3/5\n",
            "313/313 [==============================] - 168s 538ms/step - loss: 3.2030 - accuracy: 0.2192 - val_loss: 3.1578 - val_accuracy: 0.2231\n",
            "Epoch 4/5\n",
            "313/313 [==============================] - 167s 532ms/step - loss: 2.9568 - accuracy: 0.2649 - val_loss: 2.7944 - val_accuracy: 0.2905\n",
            "Epoch 5/5\n",
            "313/313 [==============================] - 170s 543ms/step - loss: 2.7606 - accuracy: 0.3036 - val_loss: 2.7318 - val_accuracy: 0.3144\n"
          ]
        }
      ]
    }
  ]
}