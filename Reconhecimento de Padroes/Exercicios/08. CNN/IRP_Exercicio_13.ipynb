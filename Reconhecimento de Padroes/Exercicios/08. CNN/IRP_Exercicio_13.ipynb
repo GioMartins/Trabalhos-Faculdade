{
  "nbformat": 4,
  "nbformat_minor": 0,
  "metadata": {
    "colab": {
      "provenance": []
    },
    "kernelspec": {
      "name": "python3",
      "display_name": "Python 3"
    },
    "language_info": {
      "name": "python"
    }
  },
  "cells": [
    {
      "cell_type": "markdown",
      "source": [
        "# **Exercício 13 - CNN**\n",
        "\n",
        "Aluno: Giovanni Martins de Sá Júnior - 2017001850"
      ],
      "metadata": {
        "id": "gZHlWXtPnWJ2"
      }
    },
    {
      "cell_type": "markdown",
      "source": [
        "Neste exercício, foi utilizada uma implementação de uma arquitetura CNN feita em R disponibilizada pelo professor. Nesse sentido, o algoritmo foi ajustado para o Python, e nele, foram experimentadas algumas alterações em sua implementação, pegando como inspiração, alguns dos artigos listados na própria tarefa."
      ],
      "metadata": {
        "id": "zcWyFzZEnxi4"
      }
    },
    {
      "cell_type": "markdown",
      "source": [
        "A partir disso, primeiramente foi então modificado a arquitetura da CNN, modificando-se a largura do número de filtros, para permitir que fossem buscadas mais características complexas nos primeiros estágios. Em segundo, aumentou-se a profundidade dos filtros, no intuito de aumentar a capacidade em aprender representações mais ricas. E por último ajustou-se o tamanho do kernel para que a rede capture padrões espaciais mais amplos."
      ],
      "metadata": {
        "id": "pjcQYiejoNfX"
      }
    },
    {
      "cell_type": "code",
      "source": [
        "import tensorflow as tf\n",
        "from tensorflow.keras import layers, models\n",
        "import matplotlib.pyplot as plt\n",
        "import numpy as np"
      ],
      "metadata": {
        "id": "TvrYkIKcPxNH"
      },
      "execution_count": null,
      "outputs": []
    },
    {
      "cell_type": "code",
      "source": [
        "# Carregar o conjunto de dados MNIST\n",
        "mnist = tf.keras.datasets.mnist\n",
        "(x_train, y_train), (x_test, y_test) = mnist.load_data()"
      ],
      "metadata": {
        "colab": {
          "base_uri": "https://localhost:8080/"
        },
        "id": "e-gRsfbfP0oH",
        "outputId": "933abc5b-2396-4576-de38-fa0b9d5c42f2"
      },
      "execution_count": null,
      "outputs": [
        {
          "output_type": "stream",
          "name": "stdout",
          "text": [
            "Downloading data from https://storage.googleapis.com/tensorflow/tf-keras-datasets/mnist.npz\n",
            "11490434/11490434 [==============================] - 0s 0us/step\n"
          ]
        }
      ]
    },
    {
      "cell_type": "code",
      "source": [
        "# Visualizar uma imagem\n",
        "index_image = 7  # Altere este índice para ver diferentes imagens\n",
        "input_matrix = x_train[index_image, :, :]\n",
        "output_matrix = np.apply_along_axis(np.flip, 1, input_matrix)\n",
        "output_matrix = np.transpose(output_matrix)\n",
        "plt.imshow(output_matrix, cmap='gray')\n",
        "plt.title(f'Image for digit of: {y_train[index_image]}')\n",
        "plt.show()"
      ],
      "metadata": {
        "colab": {
          "base_uri": "https://localhost:8080/",
          "height": 452
        },
        "id": "9RGl2xwIP4LO",
        "outputId": "65c8469d-fb20-44ed-e7ec-14e28582d8d4"
      },
      "execution_count": null,
      "outputs": [
        {
          "output_type": "display_data",
          "data": {
            "text/plain": [
              "<Figure size 640x480 with 1 Axes>"
            ],
            "image/png": "[encoded data removed]"
          },
          "metadata": {}
        }
      ]
    },
    {
      "cell_type": "code",
      "source": [
        "# Parâmetros\n",
        "batch_size = 64\n",
        "num_classes = 10\n",
        "epochs = 5"
      ],
      "metadata": {
        "id": "n46KGj2aP8WR"
      },
      "execution_count": null,
      "outputs": []
    },
    {
      "cell_type": "code",
      "source": [
        "# Dimensões da imagem de entrada\n",
        "img_rows, img_cols = 28, 28"
      ],
      "metadata": {
        "id": "XazFhU1pQAWJ"
      },
      "execution_count": null,
      "outputs": []
    },
    {
      "cell_type": "code",
      "source": [
        "# Reformular os dados\n",
        "x_train = x_train.reshape((x_train.shape[0], img_rows, img_cols, 1))\n",
        "x_test = x_test.reshape((x_test.shape[0], img_rows, img_cols, 1))\n",
        "input_shape = (img_rows, img_cols, 1)"
      ],
      "metadata": {
        "id": "m9BmdZamQCtf"
      },
      "execution_count": null,
      "outputs": []
    },
    {
      "cell_type": "code",
      "source": [
        "# Escala para estabilidade numérica\n",
        "x_train = x_train / 255.0\n",
        "x_test = x_test / 255.0"
      ],
      "metadata": {
        "id": "UjY4kLTBQFIT"
      },
      "execution_count": null,
      "outputs": []
    },
    {
      "cell_type": "code",
      "source": [
        "# Converter rótulos para matrizes categóricas\n",
        "y_train = tf.keras.utils.to_categorical(y_train, num_classes)\n",
        "y_test = tf.keras.utils.to_categorical(y_test, num_classes)"
      ],
      "metadata": {
        "id": "LLK4dhs_QJs0"
      },
      "execution_count": null,
      "outputs": []
    },
    {
      "cell_type": "code",
      "source": [
        "# Definir a estrutura do modelo CNN\n",
        "cnn_model = models.Sequential([\n",
        "    layers.Conv2D(16, kernel_size=(5, 5), activation='relu', input_shape=input_shape),\n",
        "    # Aumentei a largura para 16, usando kernel_size (5, 5)\n",
        "    layers.MaxPooling2D(pool_size=(2, 2)),\n",
        "    layers.Conv2D(32, kernel_size=(3, 3), activation='relu'),\n",
        "    # Aumentei a profundidade dos filtros para 32\n",
        "    layers.MaxPooling2D(pool_size=(2, 2)),\n",
        "    layers.Dropout(0.25),\n",
        "    layers.Flatten(),\n",
        "    layers.Dense(128, activation='relu'),\n",
        "    layers.Dropout(0.5),\n",
        "    layers.Dense(64, activation='relu'),\n",
        "    layers.Dropout(0.5),\n",
        "    layers.Dense(num_classes, activation='softmax')\n",
        "])\n",
        "\n",
        "cnn_model.summary()"
      ],
      "metadata": {
        "colab": {
          "base_uri": "https://localhost:8080/"
        },
        "id": "IKPQ408RQLP4",
        "outputId": "6b40ffcb-6f05-4154-dc12-a7c351f37969"
      },
      "execution_count": null,
      "outputs": [
        {
          "output_type": "stream",
          "name": "stdout",
          "text": [
            "Model: \"sequential_1\"\n",
            "_________________________________________________________________\n",
            " Layer (type)                Output Shape              Param #   \n",
            "=================================================================\n",
            " conv2d_2 (Conv2D)           (None, 24, 24, 16)        416       \n",
            "                                                                 \n",
            " max_pooling2d_2 (MaxPoolin  (None, 12, 12, 16)        0         \n",
            " g2D)                                                            \n",
            "                                                                 \n",
            " conv2d_3 (Conv2D)           (None, 10, 10, 32)        4640      \n",
            "                                                                 \n",
            " max_pooling2d_3 (MaxPoolin  (None, 5, 5, 32)          0         \n",
            " g2D)                                                            \n",
            "                                                                 \n",
            " dropout_3 (Dropout)         (None, 5, 5, 32)          0         \n",
            "                                                                 \n",
            " flatten_1 (Flatten)         (None, 800)               0         \n",
            "                                                                 \n",
            " dense_3 (Dense)             (None, 128)               102528    \n",
            "                                                                 \n",
            " dropout_4 (Dropout)         (None, 128)               0         \n",
            "                                                                 \n",
            " dense_4 (Dense)             (None, 64)                8256      \n",
            "                                                                 \n",
            " dropout_5 (Dropout)         (None, 64)                0         \n",
            "                                                                 \n",
            " dense_5 (Dense)             (None, 10)                650       \n",
            "                                                                 \n",
            "=================================================================\n",
            "Total params: 116490 (455.04 KB)\n",
            "Trainable params: 116490 (455.04 KB)\n",
            "Non-trainable params: 0 (0.00 Byte)\n",
            "_________________________________________________________________\n"
          ]
        }
      ]
    },
    {
      "cell_type": "code",
      "source": [
        "# Compilar o modelo\n",
        "cnn_model.compile(\n",
        "    loss=tf.keras.losses.categorical_crossentropy,\n",
        "    optimizer=tf.keras.optimizers.Adadelta(),\n",
        "    metrics=['accuracy']\n",
        ")\n"
      ],
      "metadata": {
        "id": "IuQBl10yQO5N"
      },
      "execution_count": null,
      "outputs": []
    },
    {
      "cell_type": "code",
      "source": [
        "# Treinar o modelo\n",
        "cnn_history = cnn_model.fit(\n",
        "    x_train, y_train,\n",
        "    batch_size=batch_size,\n",
        "    epochs=epochs,\n",
        "    validation_split=0.2\n",
        ")\n"
      ],
      "metadata": {
        "colab": {
          "base_uri": "https://localhost:8080/"
        },
        "id": "UPFUW5l7QSCe",
        "outputId": "a6dd5c2d-dd3c-4c69-a782-e24e91bed8af"
      },
      "execution_count": null,
      "outputs": [
        {
          "output_type": "stream",
          "name": "stdout",
          "text": [
            "Epoch 1/5\n",
            "750/750 [==============================] - 35s 43ms/step - loss: 2.3421 - accuracy: 0.0982 - val_loss: 2.3075 - val_accuracy: 0.0627\n",
            "Epoch 2/5\n",
            "750/750 [==============================] - 31s 41ms/step - loss: 2.3275 - accuracy: 0.1026 - val_loss: 2.2956 - val_accuracy: 0.0808\n",
            "Epoch 3/5\n",
            "750/750 [==============================] - 35s 47ms/step - loss: 2.3142 - accuracy: 0.1102 - val_loss: 2.2861 - val_accuracy: 0.1168\n",
            "Epoch 4/5\n",
            "750/750 [==============================] - 32s 43ms/step - loss: 2.3068 - accuracy: 0.1134 - val_loss: 2.2780 - val_accuracy: 0.1675\n",
            "Epoch 5/5\n",
            "750/750 [==============================] - 32s 42ms/step - loss: 2.2987 - accuracy: 0.1210 - val_loss: 2.2709 - val_accuracy: 0.2268\n"
          ]
        }
      ]
    },
    {
      "cell_type": "code",
      "source": [
        "# Plotar a curva de aprendizado\n",
        "plt.plot(cnn_history.history['accuracy'], label='Train Accuracy')\n",
        "plt.plot(cnn_history.history['val_accuracy'], label='Validation Accuracy')\n",
        "plt.xlabel('Epochs')\n",
        "plt.ylabel('Accuracy')\n",
        "plt.legend()\n",
        "plt.show()\n"
      ],
      "metadata": {
        "colab": {
          "base_uri": "https://localhost:8080/",
          "height": 449
        },
        "id": "2bOOLqo3R6fR",
        "outputId": "06725e53-b7bf-422f-c828-4776a0701217"
      },
      "execution_count": null,
      "outputs": [
        {
          "output_type": "display_data",
          "data": {
            "text/plain": [
              "<Figure size 640x480 with 1 Axes>"
            ],
            "image/png": "[encoded data removed]"
          },
          "metadata": {}
        }
      ]
    },
    {
      "cell_type": "code",
      "source": [
        "# Avaliar o modelo\n",
        "cnn_model.evaluate(x_test, y_test)\n",
        "\n",
        "# Previsões do modelo\n",
        "cnn_pred = cnn_model.predict(x_test)\n",
        "print(cnn_pred[:50])"
      ],
      "metadata": {
        "colab": {
          "base_uri": "https://localhost:8080/"
        },
        "id": "vDB3ZIoyR9s0",
        "outputId": "96d901f0-ce2e-4a8c-ca46-7fe8caeadd2a"
      },
      "execution_count": null,
      "outputs": [
        {
          "output_type": "stream",
          "name": "stdout",
          "text": [
            "313/313 [==============================] - 2s 6ms/step - loss: 2.2709 - accuracy: 0.2275\n",
            "313/313 [==============================] - 2s 6ms/step\n",
            "[[0.0936554  0.0950572  0.09112116 0.10223257 0.11232971 0.10378505\n",
            "  0.1029211  0.10721803 0.10046658 0.09121314]\n",
            " [0.09725788 0.10594968 0.09637022 0.09751301 0.09778313 0.10430496\n",
            "  0.10869116 0.10856127 0.09332936 0.09023935]\n",
            " [0.10031069 0.10426235 0.09633014 0.09779631 0.09965014 0.10312151\n",
            "  0.10039826 0.10360531 0.09768352 0.09684183]\n",
            " [0.10996898 0.09721649 0.09222211 0.10460191 0.08958466 0.10711527\n",
            "  0.11287319 0.10113019 0.09820816 0.08707891]\n",
            " [0.09821337 0.09662624 0.10006981 0.09984751 0.1067332  0.10593085\n",
            "  0.09575544 0.10280466 0.10081811 0.0932008 ]\n",
            " [0.09736553 0.10416796 0.09449164 0.09737861 0.09902459 0.10509311\n",
            "  0.09791905 0.1056854  0.1023325  0.09654159]\n",
            " [0.09163772 0.09352645 0.09450037 0.10083631 0.11440562 0.1033878\n",
            "  0.10077804 0.10288773 0.10811178 0.08992808]\n",
            " [0.09298588 0.09689637 0.09808706 0.09682368 0.10047119 0.10816243\n",
            "  0.10025283 0.10730525 0.0985758  0.10043946]\n",
            " [0.09887483 0.0933245  0.09741373 0.10299726 0.09931839 0.11028184\n",
            "  0.11008896 0.10955917 0.09587976 0.08226163]\n",
            " [0.09410203 0.09729888 0.09038874 0.10042959 0.1086506  0.10167162\n",
            "  0.10108674 0.11025819 0.10375471 0.09235881]\n",
            " [0.10930987 0.09362999 0.09471197 0.11051055 0.0944471  0.10600865\n",
            "  0.10620464 0.09740975 0.10020198 0.08756545]\n",
            " [0.10017277 0.09852239 0.10101819 0.09989274 0.09523204 0.10252512\n",
            "  0.10817572 0.10195759 0.09923375 0.09326968]\n",
            " [0.09752297 0.09556661 0.0974232  0.09348523 0.11024477 0.10132881\n",
            "  0.09822094 0.10456018 0.10175792 0.09988936]\n",
            " [0.11041364 0.09631962 0.09036238 0.10289398 0.09043644 0.10699376\n",
            "  0.10908314 0.10209548 0.09911671 0.09228489]\n",
            " [0.0997237  0.10369904 0.093425   0.09746355 0.09779833 0.10591251\n",
            "  0.10144878 0.10502674 0.09989354 0.09560879]\n",
            " [0.09848912 0.10253454 0.08875401 0.1101212  0.09505349 0.10507668\n",
            "  0.10210613 0.10759004 0.10675634 0.08351837]\n",
            " [0.0968536  0.09762199 0.09900926 0.10012499 0.10057309 0.10710492\n",
            "  0.09839983 0.09982194 0.10319673 0.09729364]\n",
            " [0.09393201 0.09656238 0.09367266 0.10304973 0.11151774 0.10350496\n",
            "  0.10501593 0.10474221 0.10000389 0.08799854]\n",
            " [0.09206174 0.10295234 0.0916099  0.1038572  0.10297322 0.1030822\n",
            "  0.10357182 0.10643961 0.10671444 0.08673755]\n",
            " [0.09492038 0.09812776 0.09591204 0.09494192 0.10360367 0.1055215\n",
            "  0.09774093 0.10324545 0.10436831 0.10161801]\n",
            " [0.09754831 0.09893226 0.09157261 0.09375313 0.1043077  0.10359\n",
            "  0.1017411  0.10729562 0.10149885 0.09976031]\n",
            " [0.09388619 0.10019437 0.09647558 0.10296693 0.09526909 0.10801692\n",
            "  0.10089102 0.1063615  0.10488577 0.09105261]\n",
            " [0.09920872 0.10419083 0.08969613 0.09734436 0.09974384 0.10097201\n",
            "  0.10468753 0.10651376 0.10488405 0.09275866]\n",
            " [0.10294428 0.09580094 0.09575922 0.10706638 0.09787127 0.10715722\n",
            "  0.10791759 0.10523543 0.0931629  0.08708483]\n",
            " [0.09567549 0.09713066 0.09854095 0.10260088 0.10566771 0.10146091\n",
            "  0.10119849 0.10241637 0.10011736 0.09519114]\n",
            " [0.10605599 0.08932025 0.09420925 0.10715887 0.10113387 0.10852827\n",
            "  0.10968511 0.10561668 0.09395248 0.0843392 ]\n",
            " [0.09673455 0.09802933 0.09448162 0.1012322  0.10941844 0.10379686\n",
            "  0.09863862 0.10287382 0.10459509 0.09019941]\n",
            " [0.0973117  0.09900337 0.09887532 0.09936594 0.1029703  0.10272109\n",
            "  0.0986376  0.10518485 0.10058323 0.0953466 ]\n",
            " [0.10678492 0.10132793 0.08938251 0.10094319 0.09567276 0.10528295\n",
            "  0.10804135 0.10348137 0.09798809 0.09109504]\n",
            " [0.1006019  0.10441902 0.09510914 0.10102957 0.10484728 0.10113525\n",
            "  0.10308162 0.10099778 0.10009547 0.08868294]\n",
            " [0.09217488 0.10124259 0.09403058 0.103976   0.10193554 0.10999193\n",
            "  0.09774329 0.10660558 0.10420659 0.08809307]\n",
            " [0.10207725 0.10683725 0.09223524 0.10155979 0.10104291 0.10185946\n",
            "  0.09950983 0.10321131 0.10058003 0.09108698]\n",
            " [0.09307157 0.09989516 0.09120044 0.10806517 0.09637319 0.1098057\n",
            "  0.09872031 0.10962328 0.10801694 0.08522818]\n",
            " [0.10335052 0.10021608 0.09647708 0.09804165 0.09996337 0.10617184\n",
            "  0.10925634 0.1046998  0.09405228 0.087771  ]\n",
            " [0.09315106 0.09933549 0.09922279 0.09766147 0.10841706 0.10018519\n",
            "  0.09929418 0.10603111 0.09834847 0.09835312]\n",
            " [0.09777302 0.10398724 0.09089497 0.10657281 0.10358918 0.10040773\n",
            "  0.10374254 0.1100282  0.10082637 0.08217797]\n",
            " [0.09237544 0.09623879 0.09657156 0.09864172 0.11169649 0.10196918\n",
            "  0.10807273 0.10664237 0.09677952 0.09101215]\n",
            " [0.09978919 0.1051618  0.09393202 0.1005109  0.10239479 0.10267977\n",
            "  0.10120988 0.10292838 0.10060208 0.09079116]\n",
            " [0.09872948 0.10337326 0.09489945 0.1019171  0.09617483 0.10433894\n",
            "  0.10429364 0.10870571 0.09793252 0.08963493]\n",
            " [0.09617334 0.10272552 0.09634379 0.09496909 0.09899859 0.10529535\n",
            "  0.09915616 0.10573316 0.10274147 0.09786361]\n",
            " [0.10073377 0.10527413 0.09411462 0.10076561 0.10015568 0.10375997\n",
            "  0.09933503 0.1031715  0.09952696 0.09316268]\n",
            " [0.09264291 0.09790762 0.09339898 0.10306038 0.10428176 0.10566363\n",
            "  0.10161907 0.10722617 0.1007576  0.09344193]\n",
            " [0.09806406 0.09751716 0.09421368 0.09632879 0.10877481 0.09975276\n",
            "  0.09862422 0.10384731 0.10774065 0.09513661]\n",
            " [0.09988055 0.10727246 0.09892215 0.09227052 0.09378127 0.10400353\n",
            "  0.09949028 0.10190073 0.09895419 0.10352439]\n",
            " [0.09500723 0.09960217 0.09105165 0.10295451 0.0974787  0.11016712\n",
            "  0.10292377 0.10540464 0.10420446 0.09120577]\n",
            " [0.09981552 0.09831737 0.0957952  0.10135316 0.09890754 0.1053694\n",
            "  0.10128157 0.10479239 0.100995   0.09337286]\n",
            " [0.09950768 0.10243072 0.09445155 0.10212623 0.0989992  0.10602306\n",
            "  0.09811519 0.10544263 0.10391633 0.08898737]\n",
            " [0.09826145 0.10618123 0.10087133 0.09388409 0.10065024 0.10470221\n",
            "  0.10210013 0.10085326 0.08911616 0.1033799 ]\n",
            " [0.09606695 0.09151759 0.09292912 0.09916021 0.11171697 0.10711011\n",
            "  0.09397747 0.10501239 0.11320189 0.08930731]\n",
            " [0.10137995 0.09494047 0.09575799 0.10262769 0.10149827 0.10857581\n",
            "  0.09716076 0.10052526 0.10707648 0.09045716]]\n"
          ]
        }
      ]
    },
    {
      "cell_type": "code",
      "source": [
        "# Obter pesos do modelo\n",
        "w = cnn_model.get_weights()\n",
        "\n",
        "# Plotar filtros\n",
        "plt.imshow(w[0][:, :, 0, 0], cmap='gray')  # Para plotar o filtro 1 da camada 1\n",
        "plt.show()\n",
        "\n",
        "plt.imshow(w[0][:, :, 0, 2], cmap='gray')  # Para plotar o filtro 3 da camada 1\n",
        "plt.show()"
      ],
      "metadata": {
        "id": "nRMQZg40SDvO",
        "outputId": "9c50e8b1-432c-4fa7-d4b1-6cb93fad1393",
        "colab": {
          "base_uri": "https://localhost:8080/",
          "height": 843
        }
      },
      "execution_count": null,
      "outputs": [
        {
          "output_type": "display_data",
          "data": {
            "text/plain": [
              "<Figure size 640x480 with 1 Axes>"
            ],
            "image/png": "[encoded data removed]"
          },
          "metadata": {}
        },
        {
          "output_type": "display_data",
          "data": {
            "text/plain": [
              "<Figure size 640x480 with 1 Axes>"
            ],
            "image/png": "[encoded data removed]"
          },
          "metadata": {}
        }
      ]
    }
  ]
}