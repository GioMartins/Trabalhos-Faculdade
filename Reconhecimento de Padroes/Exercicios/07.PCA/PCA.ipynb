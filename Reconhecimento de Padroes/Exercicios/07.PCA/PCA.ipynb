{
  "nbformat": 4,
  "nbformat_minor": 0,
  "metadata": {
    "colab": {
      "provenance": []
    },
    "kernelspec": {
      "name": "python3",
      "display_name": "Python 3"
    },
    "language_info": {
      "name": "python"
    }
  },
  "cells": [
    {
      "cell_type": "markdown",
      "source": [
        "# **Exercício 09 - PCA**"
      ],
      "metadata": {
        "id": "78cJyr1DnBoA"
      }
    },
    {
      "cell_type": "markdown",
      "source": [
        "Aluno: Giovanni Martins de Sá Júnior - 2017001850"
      ],
      "metadata": {
        "id": "OjCJwYwSnU2H"
      }
    },
    {
      "cell_type": "markdown",
      "source": [
        "Dada a base de dados Olivetti, foi implementado um classificador Bayesiano multivariado, no qual a técnica de PCA irá reduzir a dimensionalidade da base de dados. Nesse sentido, foram feitas variações acerca do percentual da base de dados seria definido para treinamento e teste, afim de obter a proporção no qual o modelo apresentaria a melhor precisão. Com isso, será montada uma tabela contendo a acurácia e o desvio padrão para um dado percentual de dados de teste. Por último é mostrado o gráfico resultante dos autovetores."
      ],
      "metadata": {
        "id": "Pg-IDu_EncSw"
      }
    },
    {
      "cell_type": "markdown",
      "source": [
        "Como pode ser visto foi observado uma diminuição gradual na taxa de acerto do modelo uma vez que aumentava-se o tamanho do conjunto de teste (e consequentemente, diminuia o conjunto de treinamento). Tal fato comprova que o modelo acaba não tendo dados suficientes para aprender os padrões, que resulta em um desempenho pior."
      ],
      "metadata": {
        "id": "oLlsieGWo31K"
      }
    },
    {
      "cell_type": "markdown",
      "source": [
        "Além disso, a diminuição do conjunto de treinamento afeta diretamente na capacidade do modelo a se adaptar a diferentes informações, tornando-o menos robusto e mais suscetível ao Overfitting."
      ],
      "metadata": {
        "id": "66J6oitqpZ0m"
      }
    },
    {
      "cell_type": "code",
      "source": [
        "# Importação de Bibliotecas:\n",
        "import numpy as np\n",
        "from sklearn.datasets import fetch_olivetti_faces\n",
        "from sklearn.model_selection import train_test_split\n",
        "from sklearn.decomposition import PCA\n",
        "from sklearn.naive_bayes import GaussianNB\n",
        "from sklearn.metrics import accuracy_score\n",
        "import pandas as pd\n",
        "import matplotlib.pyplot as plt"
      ],
      "metadata": {
        "id": "pED5idvD2Uvc"
      },
      "execution_count": 1,
      "outputs": []
    },
    {
      "cell_type": "code",
      "source": [
        "# Carregamento da base de Dados Olivetti\n",
        "olivetti = fetch_olivetti_faces(shuffle=True, random_state=42)\n",
        "X, y = olivetti.data, olivetti.target"
      ],
      "metadata": {
        "colab": {
          "base_uri": "https://localhost:8080/",
          "height": 0
        },
        "id": "8sHC9Z7m2Yhx",
        "outputId": "3176819d-71c6-4d91-f92a-a44267f9d3c1"
      },
      "execution_count": 2,
      "outputs": [
        {
          "output_type": "stream",
          "name": "stdout",
          "text": [
            "downloading Olivetti faces from https://ndownloader.figshare.com/files/5976027 to /root/scikit_learn_data\n"
          ]
        }
      ]
    },
    {
      "cell_type": "code",
      "source": [
        "# Definindo as proporções de treinamento e teste\n",
        "proporcoes_teste = [0.2, 0.3, 0.4, 0.5, 0.6, 0.7, 0.8]\n",
        "\n",
        "# Número de repetições\n",
        "num_repeticoes = 10\n",
        "\n",
        "resultados = []\n",
        "\n",
        "for proporcao_teste in proporcoes_teste:\n",
        "    acuracias = []\n",
        "\n",
        "    for _ in range(num_repeticoes):\n",
        "        # Separacao os dados em treinamento e teste\n",
        "        X_treino, X_teste, y_treino, y_teste = train_test_split(X, y, test_size=proporcao_teste, random_state=None, shuffle=True)\n",
        "\n",
        "        # Redução de dimensionalidade usando PCA\n",
        "        pca = PCA(n_components=0.95)  # Escolhendo a variância e 95%\n",
        "        X_treino_pca = pca.fit_transform(X_treino)\n",
        "        X_teste_pca = pca.transform(X_teste)\n",
        "\n",
        "        # Treinando o classificador Bayesiano\n",
        "        modelo = GaussianNB()\n",
        "        modelo.fit(X_treino_pca, y_treino)\n",
        "\n",
        "        # Realizando previsões\n",
        "        y_pred = modelo.predict(X_teste_pca)\n",
        "\n",
        "        # Calculando a acurácia\n",
        "        acuracia = accuracy_score(y_teste, y_pred)\n",
        "        acuracias.append(acuracia)\n",
        "\n",
        "    # Calculando a média e desvio padrão da acurácia para esta proporção de teste\n",
        "    media_acuracias = np.mean(acuracias)\n",
        "    desvio_padrao_acuracias = np.std(acuracias)\n",
        "\n",
        "    # Salvando os resultados\n",
        "    resultados.append({\n",
        "        'Proporção de Teste': proporcao_teste,\n",
        "        'Média de Acurácia': media_acuracias,\n",
        "        'Desvio Padrão da Acurácia': desvio_padrao_acuracias,\n",
        "        'Dimensões Escolhidas': pca.n_components_,\n",
        "        'Motivo da Escolha': '95% de variância explicada'\n",
        "    })"
      ],
      "metadata": {
        "id": "k8uRQfky2j0u"
      },
      "execution_count": 3,
      "outputs": []
    },
    {
      "cell_type": "code",
      "source": [
        "# Criando um DataFrame com os resultados\n",
        "df_resultados = pd.DataFrame(resultados)"
      ],
      "metadata": {
        "id": "UV80roWr3ajC"
      },
      "execution_count": 4,
      "outputs": []
    },
    {
      "cell_type": "code",
      "source": [
        "# Exibindo a tabela de resultados\n",
        "print(df_resultados)"
      ],
      "metadata": {
        "colab": {
          "base_uri": "https://localhost:8080/",
          "height": 0
        },
        "id": "NQGzLjdh3dLH",
        "outputId": "c7a50ac3-b51b-4547-e8c4-9a86f0b523f8"
      },
      "execution_count": 5,
      "outputs": [
        {
          "output_type": "stream",
          "name": "stdout",
          "text": [
            "   Proporção de Teste  Média de Acurácia  Desvio Padrão da Acurácia  \\\n",
            "0                 0.2           0.787500                   0.045069   \n",
            "1                 0.3           0.783333                   0.047726   \n",
            "2                 0.4           0.656250                   0.044896   \n",
            "3                 0.5           0.555000                   0.029069   \n",
            "4                 0.6           0.404583                   0.042795   \n",
            "5                 0.7           0.299286                   0.031004   \n",
            "6                 0.8           0.150938                   0.030235   \n",
            "\n",
            "   Dimensões Escolhidas           Motivo da Escolha  \n",
            "0                   109  95% de variância explicada  \n",
            "1                   101  95% de variância explicada  \n",
            "2                    93  95% de variância explicada  \n",
            "3                    86  95% de variância explicada  \n",
            "4                    76  95% de variância explicada  \n",
            "5                    61  95% de variância explicada  \n",
            "6                    47  95% de variância explicada  \n"
          ]
        }
      ]
    },
    {
      "cell_type": "code",
      "source": [
        "# Grafico dos autovalores\n",
        "pca = PCA()\n",
        "pca.fit(X)\n",
        "autovalores = pca.explained_variance_"
      ],
      "metadata": {
        "id": "OWImrNPW3dOp"
      },
      "execution_count": 6,
      "outputs": []
    },
    {
      "cell_type": "code",
      "source": [
        "# Plotando o gráfico de autovalores\n",
        "plt.figure(figsize=(10, 6))\n",
        "plt.plot(range(1, len(autovalores) + 1), autovalores, marker='o', linestyle='--')\n",
        "plt.title('Gráfico de Autovalores')\n",
        "plt.xlabel('Componente Principal')\n",
        "plt.ylabel('Autovalor')\n",
        "plt.grid(True)\n",
        "plt.show()"
      ],
      "metadata": {
        "colab": {
          "base_uri": "https://localhost:8080/",
          "height": 564
        },
        "id": "Bz-A9b6855I9",
        "outputId": "9e45ca5c-5a03-4a07-e9a2-bcc97d00f4e1"
      },
      "execution_count": 7,
      "outputs": [
        {
          "output_type": "display_data",
          "data": {
            "text/plain": [
              "<Figure size 1000x600 with 1 Axes>"
            ],
            "image/png": "[encoded data removed]"
          },
          "metadata": {}
        }
      ]
    }
  ]
}