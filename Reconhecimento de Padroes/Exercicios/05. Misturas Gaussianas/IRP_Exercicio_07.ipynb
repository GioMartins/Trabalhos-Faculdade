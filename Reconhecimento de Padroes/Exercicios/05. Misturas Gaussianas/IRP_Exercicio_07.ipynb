{
  "cells": [
    {
      "cell_type": "markdown",
      "source": [
        "# Exercício 07: Estimação de Densidades utilizando Misturas Gaussianas"
      ],
      "metadata": {
        "id": "kUrJ3whyLr3j"
      },
      "id": "kUrJ3whyLr3j"
    },
    {
      "cell_type": "markdown",
      "source": [
        "#### Aluno: Giovanni Martins de Sá Júnior - 2017001850"
      ],
      "metadata": {
        "id": "6DHY4FNTL733"
      },
      "id": "6DHY4FNTL733"
    },
    {
      "cell_type": "code",
      "execution_count": 1,
      "id": "de8ec2c8-3269-493e-8884-3addf7dce3c4",
      "metadata": {
        "id": "de8ec2c8-3269-493e-8884-3addf7dce3c4"
      },
      "outputs": [],
      "source": [
        "# Importação de Bibliotecas\n",
        "import numpy as np\n",
        "from sklearn.datasets import load_breast_cancer\n",
        "from sklearn.model_selection import StratifiedKFold\n",
        "from sklearn.mixture import GaussianMixture\n",
        "from sklearn.metrics import silhouette_score\n",
        "from sklearn.naive_bayes import GaussianNB\n",
        "from sklearn.metrics import accuracy_score"
      ]
    },
    {
      "cell_type": "code",
      "execution_count": 2,
      "id": "823e960e-d068-4162-bfd9-659b9cde2a44",
      "metadata": {
        "id": "823e960e-d068-4162-bfd9-659b9cde2a44"
      },
      "outputs": [],
      "source": [
        "# Passo 1: Carregamento da Base de Dados\n",
        "data = load_breast_cancer()\n",
        "X = data.data\n",
        "y = data.target"
      ]
    },
    {
      "cell_type": "code",
      "execution_count": 3,
      "id": "3a4279a8-b20f-4e87-a4ce-05fdeefccaa8",
      "metadata": {
        "colab": {
          "base_uri": "https://localhost:8080/",
          "height": 0
        },
        "id": "3a4279a8-b20f-4e87-a4ce-05fdeefccaa8",
        "outputId": "f0040a4e-1d0f-4d5f-918a-cf1580bfc45b"
      },
      "outputs": [
        {
          "output_type": "execute_result",
          "data": {
            "text/plain": [
              "array([[1.799e+01, 1.038e+01, 1.228e+02, ..., 2.654e-01, 4.601e-01,\n",
              "        1.189e-01],\n",
              "       [2.057e+01, 1.777e+01, 1.329e+02, ..., 1.860e-01, 2.750e-01,\n",
              "        8.902e-02],\n",
              "       [1.969e+01, 2.125e+01, 1.300e+02, ..., 2.430e-01, 3.613e-01,\n",
              "        8.758e-02],\n",
              "       ...,\n",
              "       [1.660e+01, 2.808e+01, 1.083e+02, ..., 1.418e-01, 2.218e-01,\n",
              "        7.820e-02],\n",
              "       [2.060e+01, 2.933e+01, 1.401e+02, ..., 2.650e-01, 4.087e-01,\n",
              "        1.240e-01],\n",
              "       [7.760e+00, 2.454e+01, 4.792e+01, ..., 0.000e+00, 2.871e-01,\n",
              "        7.039e-02]])"
            ]
          },
          "metadata": {},
          "execution_count": 3
        }
      ],
      "source": [
        "X"
      ]
    },
    {
      "cell_type": "code",
      "execution_count": 4,
      "id": "dcc3c349-cfdb-4e16-a82e-2f4fed87d292",
      "metadata": {
        "colab": {
          "base_uri": "https://localhost:8080/",
          "height": 0
        },
        "id": "dcc3c349-cfdb-4e16-a82e-2f4fed87d292",
        "outputId": "b322481d-19a2-4675-c136-4e84c48ce832"
      },
      "outputs": [
        {
          "output_type": "execute_result",
          "data": {
            "text/plain": [
              "array([0, 0, 0, 0, 0, 0, 0, 0, 0, 0, 0, 0, 0, 0, 0, 0, 0, 0, 0, 1, 1, 1,\n",
              "       0, 0, 0, 0, 0, 0, 0, 0, 0, 0, 0, 0, 0, 0, 0, 1, 0, 0, 0, 0, 0, 0,\n",
              "       0, 0, 1, 0, 1, 1, 1, 1, 1, 0, 0, 1, 0, 0, 1, 1, 1, 1, 0, 1, 0, 0,\n",
              "       1, 1, 1, 1, 0, 1, 0, 0, 1, 0, 1, 0, 0, 1, 1, 1, 0, 0, 1, 0, 0, 0,\n",
              "       1, 1, 1, 0, 1, 1, 0, 0, 1, 1, 1, 0, 0, 1, 1, 1, 1, 0, 1, 1, 0, 1,\n",
              "       1, 1, 1, 1, 1, 1, 1, 0, 0, 0, 1, 0, 0, 1, 1, 1, 0, 0, 1, 0, 1, 0,\n",
              "       0, 1, 0, 0, 1, 1, 0, 1, 1, 0, 1, 1, 1, 1, 0, 1, 1, 1, 1, 1, 1, 1,\n",
              "       1, 1, 0, 1, 1, 1, 1, 0, 0, 1, 0, 1, 1, 0, 0, 1, 1, 0, 0, 1, 1, 1,\n",
              "       1, 0, 1, 1, 0, 0, 0, 1, 0, 1, 0, 1, 1, 1, 0, 1, 1, 0, 0, 1, 0, 0,\n",
              "       0, 0, 1, 0, 0, 0, 1, 0, 1, 0, 1, 1, 0, 1, 0, 0, 0, 0, 1, 1, 0, 0,\n",
              "       1, 1, 1, 0, 1, 1, 1, 1, 1, 0, 0, 1, 1, 0, 1, 1, 0, 0, 1, 0, 1, 1,\n",
              "       1, 1, 0, 1, 1, 1, 1, 1, 0, 1, 0, 0, 0, 0, 0, 0, 0, 0, 0, 0, 0, 0,\n",
              "       0, 0, 1, 1, 1, 1, 1, 1, 0, 1, 0, 1, 1, 0, 1, 1, 0, 1, 0, 0, 1, 1,\n",
              "       1, 1, 1, 1, 1, 1, 1, 1, 1, 1, 1, 0, 1, 1, 0, 1, 0, 1, 1, 1, 1, 1,\n",
              "       1, 1, 1, 1, 1, 1, 1, 1, 1, 0, 1, 1, 1, 0, 1, 0, 1, 1, 1, 1, 0, 0,\n",
              "       0, 1, 1, 1, 1, 0, 1, 0, 1, 0, 1, 1, 1, 0, 1, 1, 1, 1, 1, 1, 1, 0,\n",
              "       0, 0, 1, 1, 1, 1, 1, 1, 1, 1, 1, 1, 1, 0, 0, 1, 0, 0, 0, 1, 0, 0,\n",
              "       1, 1, 1, 1, 1, 0, 1, 1, 1, 1, 1, 0, 1, 1, 1, 0, 1, 1, 0, 0, 1, 1,\n",
              "       1, 1, 1, 1, 0, 1, 1, 1, 1, 1, 1, 1, 0, 1, 1, 1, 1, 1, 0, 1, 1, 0,\n",
              "       1, 1, 1, 1, 1, 1, 1, 1, 1, 1, 1, 1, 0, 1, 0, 0, 1, 0, 1, 1, 1, 1,\n",
              "       1, 0, 1, 1, 0, 1, 0, 1, 1, 0, 1, 0, 1, 1, 1, 1, 1, 1, 1, 1, 0, 0,\n",
              "       1, 1, 1, 1, 1, 1, 0, 1, 1, 1, 1, 1, 1, 1, 1, 1, 1, 0, 1, 1, 1, 1,\n",
              "       1, 1, 1, 0, 1, 0, 1, 1, 0, 1, 1, 1, 1, 1, 0, 0, 1, 0, 1, 0, 1, 1,\n",
              "       1, 1, 1, 0, 1, 1, 0, 1, 0, 1, 0, 0, 1, 1, 1, 0, 1, 1, 1, 1, 1, 1,\n",
              "       1, 1, 1, 1, 1, 0, 1, 0, 0, 1, 1, 1, 1, 1, 1, 1, 1, 1, 1, 1, 1, 1,\n",
              "       1, 1, 1, 1, 1, 1, 1, 1, 1, 1, 1, 1, 0, 0, 0, 0, 0, 0, 1])"
            ]
          },
          "metadata": {},
          "execution_count": 4
        }
      ],
      "source": [
        "y"
      ]
    },
    {
      "cell_type": "code",
      "execution_count": 5,
      "id": "c7994c11-c2fe-463e-84df-cf7496f42551",
      "metadata": {
        "colab": {
          "base_uri": "https://localhost:8080/",
          "height": 0
        },
        "id": "c7994c11-c2fe-463e-84df-cf7496f42551",
        "outputId": "14303aca-c10c-469c-8424-f13137ec169e"
      },
      "outputs": [
        {
          "output_type": "stream",
          "name": "stdout",
          "text": [
            "Melhor número de gaussianas: 2\n"
          ]
        }
      ],
      "source": [
        "# Passo 2: Separação de dados de teste e treinamento usando validaçao cruzada com 10 folds\n",
        "num_folds = 10\n",
        "kf = StratifiedKFold(n_splits=num_folds, shuffle=True, random_state=0)\n",
        "\n",
        "est_gmm = None\n",
        "best_num_components = 0\n",
        "best_silhouette_score = -1\n",
        "\n",
        "# Passo 3: Treinamento do Modelo e determinação do melhor número de gaussianas\n",
        "for num_components in range(2, 31):\n",
        "    gmm = GaussianMixture(n_components=num_components, random_state=0)\n",
        "    gmm.fit(X)\n",
        "\n",
        "    labels = gmm.predict(X)\n",
        "    silhouette_avg = silhouette_score(X, labels)\n",
        "\n",
        "    if silhouette_avg > best_silhouette_score:\n",
        "        best_silhouette_score = silhouette_avg\n",
        "        best_num_components = num_components\n",
        "        best_gmm = gmm\n",
        "\n",
        "print(\"Melhor número de gaussianas:\", best_num_components)"
      ]
    },
    {
      "cell_type": "code",
      "execution_count": 6,
      "id": "d0895c6b-2fa0-40ff-a63d-a8bba2d7451f",
      "metadata": {
        "id": "d0895c6b-2fa0-40ff-a63d-a8bba2d7451f"
      },
      "outputs": [],
      "source": [
        "# Passo 4: Resolução do Problema de Classificaçao\n",
        "\n",
        "train_scores = []\n",
        "test_scores = []\n",
        "\n",
        "for train_index, test_index in kf.split(X, y):\n",
        "    X_train, X_test = X[train_index], X[test_index]\n",
        "    y_train, y_test = y[train_index], y[test_index]\n",
        "\n",
        "    gnb = GaussianNB()\n",
        "    gnb.fit(X_train, y_train)\n",
        "    y_pred = gnb.predict(X_test)\n",
        "\n",
        "    train_score = gnb.score(X_train, y_train)\n",
        "    test_score = accuracy_score(y_test, y_pred)\n",
        "\n",
        "    train_scores.append(train_score)\n",
        "    test_scores.append(test_score)"
      ]
    },
    {
      "cell_type": "code",
      "execution_count": 11,
      "id": "9101e826-68aa-469e-ad4e-9f48b2083aab",
      "metadata": {
        "colab": {
          "base_uri": "https://localhost:8080/",
          "height": 0
        },
        "id": "9101e826-68aa-469e-ad4e-9f48b2083aab",
        "outputId": "6f4e5924-d83b-49d8-f315-00cf355e3096"
      },
      "outputs": [
        {
          "output_type": "stream",
          "name": "stdout",
          "text": [
            "Acurácias por fold: \n",
            "\n",
            "0.8771929824561403 \n",
            "\n",
            "0.9649122807017544 \n",
            "\n",
            "0.9649122807017544 \n",
            "\n",
            "0.9649122807017544 \n",
            "\n",
            "0.8947368421052632 \n",
            "\n",
            "0.9298245614035088 \n",
            "\n",
            "0.9298245614035088 \n",
            "\n",
            "0.9649122807017544 \n",
            "\n",
            "0.9824561403508771 \n",
            "\n",
            "0.9107142857142857 \n",
            "\n"
          ]
        }
      ],
      "source": [
        "# Passo 5: Geraçao da tabela de acuracias\n",
        "fold_accuracies = test_scores\n",
        "\n",
        "print(\"Acurácias por fold: \\n\")\n",
        "for item in fold_accuracies:\n",
        "  print(item, \"\\n\")"
      ]
    },
    {
      "cell_type": "code",
      "execution_count": 8,
      "id": "f14f4cc0-c983-4981-b6dc-87c2b62ff0d7",
      "metadata": {
        "colab": {
          "base_uri": "https://localhost:8080/",
          "height": 0
        },
        "id": "f14f4cc0-c983-4981-b6dc-87c2b62ff0d7",
        "outputId": "4a54e63a-fdb9-4b25-9ce7-d8a30c03e1da"
      },
      "outputs": [
        {
          "output_type": "stream",
          "name": "stdout",
          "text": [
            "Acurácia Média: 0.9384398496240601\n",
            "Desvio Padrão das Acurácias: 0.033643538991067715\n"
          ]
        }
      ],
      "source": [
        "# Passo 6: Calculo da Acuracia media e do Desvio Padrao\n",
        "mean_accuracy = np.mean(fold_accuracies)\n",
        "std_accuracy = np.std(fold_accuracies)\n",
        "\n",
        "print(\"Acurácia Média:\", mean_accuracy)\n",
        "print(\"Desvio Padrão das Acurácias:\", std_accuracy)"
      ]
    }
  ],
  "metadata": {
    "kernelspec": {
      "display_name": "Python 3 (ipykernel)",
      "language": "python",
      "name": "python3"
    },
    "language_info": {
      "codemirror_mode": {
        "name": "ipython",
        "version": 3
      },
      "file_extension": ".py",
      "mimetype": "text/x-python",
      "name": "python",
      "nbconvert_exporter": "python",
      "pygments_lexer": "ipython3",
      "version": "3.11.4"
    },
    "colab": {
      "provenance": []
    }
  },
  "nbformat": 4,
  "nbformat_minor": 5
}